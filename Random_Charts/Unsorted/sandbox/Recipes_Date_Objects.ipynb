{
 "cells": [
  {
   "cell_type": "markdown",
   "metadata": {},
   "source": [
    "# Date Objects\n",
    "\n",
    "## Create a date object and extract information from it"
   ]
  },
  {
   "cell_type": "code",
   "execution_count": 2,
   "metadata": {},
   "outputs": [
    {
     "name": "stdout",
     "output_type": "stream",
     "text": [
      "My Date Object\n",
      "2020-01-01\n",
      "My Year\n",
      "2020\n"
     ]
    }
   ],
   "source": [
    "from datetime import date\n",
    "\n",
    "# create a date object representing January 1, 2020\n",
    "start_date = date(2020, 1, 1)\n",
    "\n",
    "print(\"My Date Object\")\n",
    "print(start_date)\n",
    "\n",
    "# extract information such as the year, month, and day\n",
    "year = start_date.year\n",
    "month = start_date.month\n",
    "day = start_date.day\n",
    "\n",
    "\n",
    "print(\"My Year\")\n",
    "print(year)"
   ]
  },
  {
   "cell_type": "markdown",
   "metadata": {},
   "source": [
    "## Get the Day of the Week "
   ]
  },
  {
   "cell_type": "code",
   "execution_count": 1,
   "metadata": {},
   "outputs": [
    {
     "name": "stdout",
     "output_type": "stream",
     "text": [
      "2\n"
     ]
    }
   ],
   "source": [
    "from datetime import date\n",
    "\n",
    "# create a date object representing January 1, 2020\n",
    "start_date = date(2020, 1, 1)\n",
    "\n",
    "# get the day of the week (Note: Monday is coded as 0, and Sunday as 6)\n",
    "weekday = start_date.weekday()\n",
    "\n",
    "print(weekday)"
   ]
  },
  {
   "cell_type": "markdown",
   "metadata": {},
   "source": [
    "## Covert the date into a string with a certain format"
   ]
  },
  {
   "cell_type": "code",
   "execution_count": 2,
   "metadata": {},
   "outputs": [
    {
     "name": "stdout",
     "output_type": "stream",
     "text": [
      "2020-01-01\n"
     ]
    },
    {
     "data": {
      "text/plain": [
       "str"
      ]
     },
     "execution_count": 2,
     "metadata": {},
     "output_type": "execute_result"
    }
   ],
   "source": [
    "from datetime import date\n",
    "\n",
    "# create a date object representing January 1, 2020\n",
    "start_date = date(2020, 1, 1)\n",
    "\n",
    "# the date can be formatted as a string if needed\n",
    "date_str = start_date.strftime('%Y-%m-%d')\n",
    "\n",
    "print(date_str)\n",
    "type(date_str)"
   ]
  },
  {
   "cell_type": "markdown",
   "metadata": {},
   "source": [
    "## Convert TimeStamp to Date"
   ]
  },
  {
   "cell_type": "code",
   "execution_count": 3,
   "metadata": {},
   "outputs": [
    {
     "name": "stdout",
     "output_type": "stream",
     "text": [
      "Current Timestamp: 1718739622.651447\n"
     ]
    }
   ],
   "source": [
    "import time\n",
    "current_timestamp = time.time()\n",
    "print(\"Current Timestamp:\", current_timestamp)"
   ]
  },
  {
   "cell_type": "code",
   "execution_count": 6,
   "metadata": {},
   "outputs": [
    {
     "data": {
      "text/plain": [
       "float"
      ]
     },
     "execution_count": 6,
     "metadata": {},
     "output_type": "execute_result"
    }
   ],
   "source": [
    "type(current_timestamp)"
   ]
  }
 ],
 "metadata": {
  "kernelspec": {
   "display_name": ".venv",
   "language": "python",
   "name": "python3"
  },
  "language_info": {
   "codemirror_mode": {
    "name": "ipython",
    "version": 3
   },
   "file_extension": ".py",
   "mimetype": "text/x-python",
   "name": "python",
   "nbconvert_exporter": "python",
   "pygments_lexer": "ipython3",
   "version": "3.11.4"
  }
 },
 "nbformat": 4,
 "nbformat_minor": 2
}
