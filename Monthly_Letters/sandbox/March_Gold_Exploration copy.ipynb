{
 "cells": [
  {
   "attachments": {},
   "cell_type": "markdown",
   "metadata": {},
   "source": [
    "# Gold Historical Returns Visualisations"
   ]
  },
  {
   "cell_type": "code",
   "execution_count": null,
   "metadata": {},
   "outputs": [],
   "source": [
    "import yfinance as yf\n",
    "import matplotlib.pyplot as plt\n",
    "quant_pastel = \"https://raw.githubusercontent.com/quantgirluk/matplotlib-stylesheets/main/quant-pastel-light.mplstyle\"\n",
    "plt.style.use(quant_pastel)\n",
    "%config InlineBackend.figure_format ='retina'"
   ]
  },
  {
   "cell_type": "code",
   "execution_count": null,
   "metadata": {},
   "outputs": [],
   "source": [
    "plt.rcParams[\"figure.figsize\"] = (10, 7)\n",
    "plt.rcParams[\"figure.dpi\"] = 100"
   ]
  },
  {
   "cell_type": "code",
   "execution_count": null,
   "metadata": {},
   "outputs": [],
   "source": [
    "# data_daily = yf.download('^SPX')\n",
    "# data_weekly = yf.download('^SPX', interval='1wk')\n",
    "# data_monthly = yf.download('^SPX', interval='1mo')\n",
    "\n",
    "data = yf.download('CC=F', '', interval='1wk')\n",
    "data.head()"
   ]
  },
  {
   "cell_type": "code",
   "execution_count": null,
   "metadata": {},
   "outputs": [],
   "source": [
    "data.tail()"
   ]
  },
  {
   "cell_type": "code",
   "execution_count": null,
   "metadata": {},
   "outputs": [],
   "source": [
    "plt.figure(figsize=(12, 6))\n",
    "data['Close'].plot(color='blue', title=\"Cocoa Futures Historical Close Value\")\n",
    "plt.show()"
   ]
  },
  {
   "cell_type": "code",
   "execution_count": null,
   "metadata": {},
   "outputs": [],
   "source": [
    "import numpy as np\n",
    "kind = 'standard'\n",
    "\n",
    "df = data\n",
    "\n",
    "if kind == 'standard':\n",
    "    column = 'Returns'\n",
    "    df.loc[:, column] = 100*(df['Adj Close'] - df['Adj Close'].shift(1))/df['Adj Close']\n",
    "\n",
    "elif kind == 'log':\n",
    "\n",
    "    column = 'Log-Returns'\n",
    "    df.loc[:, column] = np.log(df['Adj Close']) - np.log(df['Adj Close'].shift(1))\n",
    "\n",
    "df = df.reset_index()\n",
    "df['year'] = df['Date'].dt.year\n",
    "df['Decade'] = [int(np.floor(year/10) * 10) for year in np.array(df[\"year\"])]\n",
    "df = df.dropna()\n",
    "df.head()"
   ]
  },
  {
   "cell_type": "code",
   "execution_count": null,
   "metadata": {},
   "outputs": [],
   "source": [
    "df.tail()"
   ]
  },
  {
   "cell_type": "code",
   "execution_count": null,
   "metadata": {},
   "outputs": [],
   "source": [
    "fig = df.plot(x='Date', y ='Returns', figsize=(12, 6), title='Cocoa Daily Returns')\n",
    "plt.show()"
   ]
  },
  {
   "cell_type": "code",
   "execution_count": null,
   "metadata": {},
   "outputs": [],
   "source": [
    "fig = df.hist(column='Returns', figsize=(12, 6))\n",
    "plt.title('Cocoa Historical Daily Returns')\n",
    "plt.show()"
   ]
  },
  {
   "cell_type": "code",
   "execution_count": null,
   "metadata": {},
   "outputs": [],
   "source": [
    "import plotly.express as px\n",
    "fig = px.line(df, x='Date', y='Returns',title='Cocoa Daily Returns')\n",
    "fig.update_xaxes(rangeslider_visible=True)\n",
    "fig.update_layout(template=\"plotly_white\")\n",
    "fig.show()"
   ]
  },
  {
   "cell_type": "code",
   "execution_count": null,
   "metadata": {},
   "outputs": [],
   "source": [
    "dta.head()"
   ]
  },
  {
   "cell_type": "code",
   "execution_count": null,
   "metadata": {},
   "outputs": [],
   "source": [
    "# import plotly.express as px \n",
    "dta =df\n",
    "fig = px.box(data_frame=dta,  x='Decade', y='Returns', labels={'Returns':\"Returns (%)\"},\n",
    "             color='Decade',\n",
    "            hover_data={'Date': True, 'Returns': ':.2f', 'High': ':.2f', 'Decade':False},\n",
    "                notched=True, color_discrete_sequence=px.colors.qualitative.Bold\n",
    "            )\n",
    "fig.update_layout(\n",
    "    title='Cocoa Historical Daily Returns',\n",
    "    autosize=False,\n",
    "    width=1000,\n",
    "    height=600,\n",
    "    yaxis=dict(\n",
    "        autorange=True,\n",
    "        showgrid=True,\n",
    "        zeroline=True,\n",
    "        dtick=5,\n",
    "        # gridcolor='rgb(255, 255, 255)',\n",
    "        gridwidth=1,\n",
    "        zerolinecolor='rgb(255, 255, 255)',\n",
    "        zerolinewidth=2,\n",
    "    ),\n",
    "    margin=dict(\n",
    "        l=40,\n",
    "        r=30,\n",
    "        b=80,\n",
    "        t=100,\n",
    "    ),\n",
    "    # paper_bgcolor='rgb(243, 243, 243)',\n",
    "    # plot_bgcolor='rgb(243, 243, 243)',\n",
    "    showlegend=False\n",
    ")\n",
    "fig.update_layout(template=\"plotly_white\")\n",
    "                  \n",
    "fig.show()"
   ]
  },
  {
   "cell_type": "code",
   "execution_count": null,
   "metadata": {},
   "outputs": [],
   "source": [
    "# import plotly.express as px \n",
    "dta =df\n",
    "fig = px.box(data_frame=dta,  x='year', y='Returns', labels={'Returns':\"Returns (%)\"},\n",
    "             color='year',\n",
    "            hover_data={'Date': True, 'Returns': ':.2f', 'High': ':.2f', 'Decade':False},\n",
    "                notched=True, color_discrete_sequence=px.colors.qualitative.Bold\n",
    "            )\n",
    "fig.update_layout(\n",
    "    title='Cocoa Historical Daily Returns',\n",
    "    autosize=False,\n",
    "    width=1000,\n",
    "    height=600,\n",
    "    yaxis=dict(\n",
    "        autorange=True,\n",
    "        showgrid=True,\n",
    "        zeroline=True,\n",
    "        dtick=5,\n",
    "        # gridcolor='rgb(255, 255, 255)',\n",
    "        gridwidth=1,\n",
    "        zerolinecolor='rgb(255, 255, 255)',\n",
    "        zerolinewidth=2,\n",
    "    ),\n",
    "    margin=dict(\n",
    "        l=40,\n",
    "        r=30,\n",
    "        b=80,\n",
    "        t=100,\n",
    "    ),\n",
    "    # paper_bgcolor='rgb(243, 243, 243)',\n",
    "    # plot_bgcolor='rgb(243, 243, 243)',\n",
    "    showlegend=False\n",
    ")\n",
    "fig.update_layout(template=\"plotly_white\")\n",
    "                  \n",
    "fig.show()"
   ]
  },
  {
   "cell_type": "code",
   "execution_count": null,
   "metadata": {},
   "outputs": [],
   "source": [
    "fig, ax = plt.subplots(nrows=1, ncols=1, figsize=(12, 8),dpi=100)\n",
    "box = df.boxplot(by='Decade', column='Returns', ax=ax, notch=True)\n",
    "ax.set_title('Cocoa Historical Daily Returns')\n",
    "ax.set_xlabel('Decade')\n",
    "ax.set_ylabel('Returns (\\%)')\n",
    "plt.suptitle('') \n",
    "plt.show()"
   ]
  },
  {
   "cell_type": "code",
   "execution_count": null,
   "metadata": {},
   "outputs": [],
   "source": [
    "# import plotly.express as px \n",
    "palette = px.colors.qualitative.Bold\n",
    "colors = [(a/255, b/255, c/255) for (a,b,c) in [eval(p[4:-1]) for p in palette]]\n",
    "colors_transparent1 = [(a/255, b/255, c/255, 0.7) for (a,b,c) in [eval(p[4:-1]) for p in palette]]\n",
    "colors_transparent2 = [(a/255, b/255, c/255, 0.15) for (a,b,c) in [eval(p[4:-1]) for p in palette]]"
   ]
  },
  {
   "cell_type": "code",
   "execution_count": null,
   "metadata": {},
   "outputs": [],
   "source": [
    "fig, ax = plt.subplots(nrows=1, ncols=1, figsize=(12, 6),dpi=150)\n",
    "\n",
    "\n",
    "box = df.boxplot(by='year', column='Returns', ax=ax, return_type='dict', patch_artist=True, notch=True,\n",
    "                #  whis=(5,95)\n",
    "                 )\n",
    "\n",
    "for patch, flier, median, color in zip(box['Returns']['boxes'],  \n",
    "                                                         box['Returns']['fliers'], \n",
    "                                                         box['Returns']['medians'], \n",
    "                                                         colors_transparent1*3):\n",
    "    patch.set_facecolor(color)\n",
    "    patch.set_alpha(0.5)\n",
    "\n",
    "box = df.boxplot(by='year', column='Returns', ax=ax,\n",
    "                 return_type='dict', patch_artist=True, notch=True,  \n",
    "                 boxprops={'fill': None},\n",
    "                #  whis=(5,95)\n",
    "                 )\n",
    "\n",
    "for patch, flier, median,  color, colort2 in zip(box['Returns']['boxes'],  \n",
    "                                                         box['Returns']['fliers'], \n",
    "                                                         box['Returns']['medians'], \n",
    "                                                         colors*3, colors_transparent2*3):\n",
    "    patch.set_edgecolor(color)\n",
    "    patch.set_linewidth(1.5)\n",
    "    median.set_color(color)\n",
    "    median.set_linewidth(1.5)\n",
    "    flier.set_markerfacecolor(colort2)\n",
    "    flier.set_markeredgecolor(color)\n",
    "    \n",
    "w = box['Returns']['whiskers']\n",
    "for (a, b), c in zip(zip(w[0::2], w[1::2]),colors*3):\n",
    "    a.set_color(c)\n",
    "    b.set_color(c)\n",
    "    a.set_linewidth(1.25)\n",
    "    b.set_linewidth(1.25)\n",
    "    \n",
    "caps= box['Returns']['caps']\n",
    "for (a, b), c in zip(zip(caps[0::2], caps[1::2]),colors*3):\n",
    "    a.set_color(c)\n",
    "    b.set_color(c)\n",
    "    a.set_linewidth(1.5)\n",
    "    b.set_linewidth(1.5)\n",
    "\n",
    "# ax.set_axisbelow(True)\n",
    "# ax.yaxis.grid(color='gray', linestyle='dashed')\n",
    "ax.grid(visible=False, axis='x')\n",
    "\n",
    "ax.set_title('Cocoa Futures Historical Daily Returns')\n",
    "ax.set_xlabel('Decade')\n",
    "ax.set_ylabel('Returns (\\%)')\n",
    "plt.suptitle('') \n",
    "\n",
    "plt.show()"
   ]
  },
  {
   "cell_type": "code",
   "execution_count": null,
   "metadata": {},
   "outputs": [],
   "source": [
    "fig, ax = plt.subplots(nrows=1, ncols=1, figsize=(12, 6),dpi=150)\n",
    "\n",
    "\n",
    "box = df.boxplot(by='Decade', column='Returns', ax=ax, return_type='dict', patch_artist=True, notch=True,\n",
    "                #  whis=(5,95)\n",
    "                 )\n",
    "\n",
    "for patch, flier, median, color in zip(box['Returns']['boxes'],  \n",
    "                                                         box['Returns']['fliers'], \n",
    "                                                         box['Returns']['medians'], \n",
    "                                                         colors_transparent1*3):\n",
    "    patch.set_facecolor(color)\n",
    "    patch.set_alpha(0.5)\n",
    "\n",
    "box = df.boxplot(by='Decade', column='Returns', ax=ax,\n",
    "                 return_type='dict', patch_artist=True, notch=True,  \n",
    "                 boxprops={'fill': None},\n",
    "                #  whis=(5,95)\n",
    "                 )\n",
    "\n",
    "for patch, flier, median,  color, colort2 in zip(box['Returns']['boxes'],  \n",
    "                                                         box['Returns']['fliers'], \n",
    "                                                         box['Returns']['medians'], \n",
    "                                                         colors*3, colors_transparent2*3):\n",
    "    patch.set_edgecolor(color)\n",
    "    patch.set_linewidth(1.5)\n",
    "    median.set_color(color)\n",
    "    median.set_linewidth(1.5)\n",
    "    flier.set_markerfacecolor(colort2)\n",
    "    flier.set_markeredgecolor(color)\n",
    "    \n",
    "w = box['Returns']['whiskers']\n",
    "for (a, b), c in zip(zip(w[0::2], w[1::2]),colors*3):\n",
    "    a.set_color(c)\n",
    "    b.set_color(c)\n",
    "    a.set_linewidth(1.25)\n",
    "    b.set_linewidth(1.25)\n",
    "    \n",
    "caps= box['Returns']['caps']\n",
    "for (a, b), c in zip(zip(caps[0::2], caps[1::2]),colors*3):\n",
    "    a.set_color(c)\n",
    "    b.set_color(c)\n",
    "    a.set_linewidth(1.5)\n",
    "    b.set_linewidth(1.5)\n",
    "\n",
    "# ax.set_axisbelow(True)\n",
    "# ax.yaxis.grid(color='gray', linestyle='dashed')\n",
    "ax.grid(visible=False, axis='x')\n",
    "\n",
    "ax.set_title('Cocoa Futures Historical Daily Returns')\n",
    "ax.set_xlabel('Decade')\n",
    "ax.set_ylabel('Returns (\\%)')\n",
    "plt.suptitle('') \n",
    "\n",
    "plt.show()"
   ]
  },
  {
   "cell_type": "code",
   "execution_count": null,
   "metadata": {},
   "outputs": [],
   "source": []
  }
 ],
 "metadata": {
  "kernelspec": {
   "display_name": "base",
   "language": "python",
   "name": "python3"
  },
  "language_info": {
   "codemirror_mode": {
    "name": "ipython",
    "version": 3
   },
   "file_extension": ".py",
   "mimetype": "text/x-python",
   "name": "python",
   "nbconvert_exporter": "python",
   "pygments_lexer": "ipython3",
   "version": "3.11.4"
  },
  "orig_nbformat": 4
 },
 "nbformat": 4,
 "nbformat_minor": 2
}
